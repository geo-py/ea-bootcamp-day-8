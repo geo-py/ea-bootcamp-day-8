{
 "cells": [
  {
   "cell_type": "markdown",
   "metadata": {},
   "source": [
    "#### Conditional Statements\n",
    "\n",
    "In the lesson introducing DRY code, you learned that conditional statements provide you with the ability to control when or how code is executed.\n",
    "\n",
    "This can be very useful for checking whether a certain condition exists before the code begins to execute, as you may want to only execute certain code lines when certain conditions are met.\n",
    "\n",
    "For example, conditional statements can be used to check that a certain variable or file exists before code is executed, or to execute more code if some criteria is met, such as a calculation resulting in a specific value.\n",
    "Structure of Conditional Statements\n",
    "\n",
    "The structure of a conditional statement is defined through the use of if and else."
   ]
  },
  {
   "cell_type": "code",
   "execution_count": null,
   "metadata": {},
   "outputs": [],
   "source": [
    "if condition:\n",
    "    print(\"condition is true\")\n",
    "else:\n",
    "    print(\"condition not true\")"
   ]
  },
  {
   "cell_type": "markdown",
   "metadata": {},
   "source": [
    "When the condition following the if is met, then a certain code will execute. When that condition is not met, then the code following the else will execute.\n",
    "\n",
    "Review these simple examples to see how the if and else are used to control which code lines are executed."
   ]
  },
  {
   "cell_type": "code",
   "execution_count": 8,
   "metadata": {},
   "outputs": [
    {
     "name": "stdout",
     "output_type": "stream",
     "text": [
      "x has a value of 0 which is less than 10.\n"
     ]
    }
   ],
   "source": [
    "# create a variable x with the value of 0\n",
    "x = 0\n",
    "\n",
    "# compare the value of x to 10 and print a message depending on\n",
    "# the outcome of the comparision\n",
    "if x < 10:\n",
    "    print(\"x has a value of\", x, \"which is less than 10.\")\n",
    "\n",
    "else:\n",
    "    print(\"x has a value of\", x, \"which is not less than 10.\")"
   ]
  },
  {
   "cell_type": "code",
   "execution_count": 9,
   "metadata": {},
   "outputs": [
    {
     "name": "stdout",
     "output_type": "stream",
     "text": [
      "x has a value of 100 which is NOT less than 10\n"
     ]
    }
   ],
   "source": [
    "# create a variable x with the value of 100\n",
    "x = 100\n",
    "\n",
    "# compare the value of x to 10 and print a message depending\n",
    "# on the outcome of the comparison\n",
    "if x < 10:\n",
    "    print(\"x has a value of\", x, \"which is less than 10.\")\n",
    "\n",
    "else:\n",
    "    print(\"x has a value of\", x, \"which is NOT less than 10\")"
   ]
  },
  {
   "cell_type": "markdown",
   "metadata": {},
   "source": [
    "You can also write conditional statements to identify keywords within a text string, such as the name of a variable."
   ]
  },
  {
   "cell_type": "code",
   "execution_count": 12,
   "metadata": {},
   "outputs": [
    {
     "name": "stdout",
     "output_type": "stream",
     "text": [
      "This textstring contains the keyword: precip\n"
     ]
    }
   ],
   "source": [
    "# check if the text string 'precip' is contained within the text\n",
    "# string \"avg_monthly_precip\"\n",
    "if \"precip\" in \"avg_monthly: precip.\":\n",
    "    print(\"This textstring contains the keyword: precip\")\n",
    "    \n",
    "else:\n",
    "    print(\"This textstring does NOT contain the keyword: precip\")"
   ]
  },
  {
   "cell_type": "code",
   "execution_count": 13,
   "metadata": {},
   "outputs": [
    {
     "name": "stdout",
     "output_type": "stream",
     "text": [
      "This textstring does NOT contain the keyword: precip\n"
     ]
    }
   ],
   "source": [
    "# check if the text string 'precip' is contained within the\n",
    "# text string \"avg_monthly_temp\"\n",
    "if \"precip\" in \"avg_monthly_temp\":\n",
    "    print(\"This textstring contains the keyword: precip\")\n",
    "    \n",
    "else:\n",
    "    print(\"This textstring does NOT contain the keyword: precip\")"
   ]
  },
  {
   "cell_type": "markdown",
   "metadata": {},
   "source": [
    "##### Optional Challenge 1\n",
    "\n",
    "1. Write a conditional statement that will print a message depending on whether the following condition is met:\n",
    "\n",
    " * the value of x is equal to 25, and print th message stating whether x is equal to 35\n",
    " * Note that the comparison operator is 'equal to' is ==\n",
    " \n",
    " \n",
    "2. How does the comparision operator for 'equal to' differ from using the = to assign value to variable name?"
   ]
  },
  {
   "cell_type": "code",
   "execution_count": 18,
   "metadata": {},
   "outputs": [
    {
     "name": "stdout",
     "output_type": "stream",
     "text": [
      "The value of x is NOT equal to 35\n"
     ]
    }
   ],
   "source": [
    "# write conditional statement to print where the condition stated above\n",
    "# is met\n",
    "\n",
    "# create variable x\n",
    "x = 25\n",
    "\n",
    "# write conditional statement\n",
    "\n",
    "if x == 35:\n",
    "    \n",
    "    print(\"The value of x is equal to 35\")\n",
    "    \n",
    "else:\n",
    "    print(\"The value of x is NOT equal to 35\")"
   ]
  },
  {
   "cell_type": "markdown",
   "metadata": {},
   "source": [
    "#### Optional Challenge 2\n",
    "\n",
    "1. Write a conditional statement that will add a value of 15 to a variable x if the following condition is met: the value of x is NOT equal to 35.\n",
    "\n",
    "  * Set x equal to 25 and use the assignment operator (+=) to add 15 when x is not equal to 35.\n",
    "  * Note that the comparison operator for not equal to is !=\n",
    "  * For both if and else, print the final value of x"
   ]
  },
  {
   "cell_type": "code",
   "execution_count": 26,
   "metadata": {},
   "outputs": [
    {
     "name": "stdout",
     "output_type": "stream",
     "text": [
      "The value of x is 40\n"
     ]
    }
   ],
   "source": [
    "# create variable where x = 25\n",
    "x = 25\n",
    "\n",
    "# Use assignment operator to add 15 when value of x not\n",
    "# equal to 35\n",
    "\n",
    "if x != 35:\n",
    "    x += 15\n",
    "    print(\"The value of x is\", x)\n",
    "    \n",
    "else:\n",
    "    print(\"The value of x is equal to 35\")"
   ]
  },
  {
   "cell_type": "code",
   "execution_count": 27,
   "metadata": {},
   "outputs": [
    {
     "name": "stdout",
     "output_type": "stream",
     "text": [
      "The value of x is equal to 35\n"
     ]
    }
   ],
   "source": [
    "# create variable where x = 35\n",
    "x = 35\n",
    "\n",
    "# Use assignment operator to add 15 when value of x not\n",
    "# equal to 35\n",
    "\n",
    "if x != 35:\n",
    "    x += 15\n",
    "    print(\"The value of x is\", x)\n",
    "    \n",
    "else:\n",
    "    print(\"The value of x is equal to 35\")"
   ]
  },
  {
   "cell_type": "code",
   "execution_count": null,
   "metadata": {},
   "outputs": [],
   "source": []
  }
 ],
 "metadata": {
  "kernelspec": {
   "display_name": "Python 3",
   "language": "python",
   "name": "python3"
  },
  "language_info": {
   "codemirror_mode": {
    "name": "ipython",
    "version": 3
   },
   "file_extension": ".py",
   "mimetype": "text/x-python",
   "name": "python",
   "nbconvert_exporter": "python",
   "pygments_lexer": "ipython3",
   "version": "3.7.0"
  }
 },
 "nbformat": 4,
 "nbformat_minor": 2
}
